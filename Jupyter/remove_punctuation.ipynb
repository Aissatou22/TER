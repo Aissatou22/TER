{
 "cells": [
  {
   "cell_type": "code",
   "execution_count": 46,
   "metadata": {},
   "outputs": [],
   "source": [
    "import string as str"
   ]
  },
  {
   "cell_type": "code",
   "execution_count": 47,
   "metadata": {},
   "outputs": [
    {
     "name": "stdout",
     "output_type": "stream",
     "text": [
      "intab avant: !\"#$%&'()*+,-./:;<=>?@[\\]^_`{|}~\n",
      "intab après: b'!\"#$%&\\'()*+,-./:;<=>?@[\\\\]^_`{|}~'\n",
      "| b'                                ' |\n",
      "This is an example of string with punctuation\n"
     ]
    }
   ],
   "source": [
    "input_str = \"This &is [an] example? {of} string. with.? punctuation!!!!\" # Sample string\n",
    "intab = str.punctuation\n",
    "print(\"intab avant:\",intab)\n",
    "intab = intab.encode()\n",
    "print(\"intab après:\",intab)\n",
    "\n",
    "outab = \" \"*32\n",
    "outab = outab.encode()\n",
    "print(\"|\",outab,\"|\")\n",
    "transtab = bytes.maketrans(intab,outab)\n",
    "result = input_str.translate(transtab)\n",
    "result_without_space = result.split()\n",
    "result = \" \".join(result_without_space)\n",
    "print(result)"
   ]
  },
  {
   "cell_type": "code",
   "execution_count": 48,
   "metadata": {},
   "outputs": [
    {
     "name": "stdout",
     "output_type": "stream",
     "text": [
      "b'th3s 3s str3ng 2x1mpl2....w4w!!!'\n"
     ]
    }
   ],
   "source": [
    "intab = b\"aeiou\"\n",
    "outtab = b\"12345\"\n",
    "trantab = bytes.maketrans(intab, outtab)\n",
    "strg = b\"this is string example....wow!!!\";\n",
    "print(strg.translate(trantab));"
   ]
  },
  {
   "cell_type": "code",
   "execution_count": null,
   "metadata": {},
   "outputs": [],
   "source": []
  }
 ],
 "metadata": {
  "kernelspec": {
   "display_name": "(terEnv)",
   "language": "python",
   "name": "terenv"
  },
  "language_info": {
   "codemirror_mode": {
    "name": "ipython",
    "version": 3
   },
   "file_extension": ".py",
   "mimetype": "text/x-python",
   "name": "python",
   "nbconvert_exporter": "python",
   "pygments_lexer": "ipython3",
   "version": "3.7.6"
  }
 },
 "nbformat": 4,
 "nbformat_minor": 4
}
