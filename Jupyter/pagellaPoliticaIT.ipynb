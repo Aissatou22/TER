{
 "cells": [
  {
   "cell_type": "code",
   "execution_count": 8,
   "metadata": {},
   "outputs": [],
   "source": [
    "import bs4 as bs\n",
    "import requests\n",
    "import os\n",
    "import re\n",
    "import sys\n",
    "import json"
   ]
  },
  {
   "cell_type": "code",
   "execution_count": 88,
   "metadata": {},
   "outputs": [],
   "source": [
    "url = 'https://pagellapolitica.it/'\n",
    "uri = 'dichiarazioni/verificato?page='\n",
    "pageNumber = 1\n",
    "pageNumber = str(pageNumber)"
   ]
  },
  {
   "cell_type": "code",
   "execution_count": 89,
   "metadata": {},
   "outputs": [],
   "source": [
    "soup = bs4.BeautifulSoup(response.text, 'lxml')\n",
    "newArticles = {}\n",
    "totalNumberOfArticles = 1"
   ]
  },
  {
   "cell_type": "code",
   "execution_count": 90,
   "metadata": {},
   "outputs": [],
   "source": [
    "def pageLinks(pageNumber):\n",
    "    pageAddress = url + uri + pageNumber\n",
    "    resp = requests.get(pageAddress)\n",
    "    if resp:\n",
    "        source = requests.get(pageAddress).text\n",
    "        soup = bs.BeautifulSoup(source, \"lxml\")\n",
    "        tables = soup.findAll('div', {'class': 'col-lg-3 mb-7'})\n",
    "        pageLinks=[]\n",
    "        for table in tables:\n",
    "            link = table.find('a',{'class': 'statement-link'})['href']\n",
    "            articleLink = url+link\n",
    "            pageLinks.append(articleLink)\n",
    "    return pageLinks"
   ]
  },
  {
   "cell_type": "code",
   "execution_count": 91,
   "metadata": {},
   "outputs": [
    {
     "name": "stdout",
     "output_type": "stream",
     "text": [
      "https://pagellapolitica.it/dichiarazioni/183/roberto-formigoni\n",
      "https://pagellapolitica.it/dichiarazioni/187/mario-monti\n",
      "https://pagellapolitica.it/dichiarazioni/188/corrado-passera\n",
      "https://pagellapolitica.it/dichiarazioni/190/corrado-passera\n",
      "https://pagellapolitica.it/dichiarazioni/192/beppe-grillo\n",
      "https://pagellapolitica.it/dichiarazioni/206/francesco-profumo\n",
      "https://pagellapolitica.it/dichiarazioni/208/roberto-maroni\n",
      "https://pagellapolitica.it/dichiarazioni/209/francesco-profumo\n",
      "https://pagellapolitica.it/dichiarazioni/211/renata-polverini\n",
      "https://pagellapolitica.it/dichiarazioni/212/beppe-grillo\n",
      "https://pagellapolitica.it/dichiarazioni/216/gianni-alemanno\n",
      "https://pagellapolitica.it/dichiarazioni/215/roberto-cota\n"
     ]
    }
   ],
   "source": [
    "pageLinks = pageLinks(\"192\")\n",
    "for i in pageLinks:\n",
    "    print(i)"
   ]
  },
  {
   "cell_type": "markdown",
   "metadata": {},
   "source": [
    "In the welcome page we see only 9 articles but when we see the HTML code, there are 16 article's link."
   ]
  },
  {
   "cell_type": "code",
   "execution_count": 87,
   "metadata": {},
   "outputs": [
    {
     "name": "stdout",
     "output_type": "stream",
     "text": [
      "12\n"
     ]
    }
   ],
   "source": [
    "print(len(pageLinks))"
   ]
  },
  {
   "cell_type": "code",
   "execution_count": 6,
   "metadata": {},
   "outputs": [],
   "source": [
    "import pandas as pd\n",
    "parameters = ['data-prix','data-codepostal','data-idagence','data-idannonce','data-nb_chambres','data-nb_pieces','data-surface','data-typebien']\n",
    "df_f = pd.DataFrame()\n",
    "for par in parameters:\n",
    "    l = []\n",
    "    for el in em_box:\n",
    "        j = el[par]\n",
    "        l.append(j)\n",
    "    l = pd.DataFrame(l, columns = [par])\n",
    "    df_f = pd.concat([df_f,l], axis = 1)"
   ]
  },
  {
   "cell_type": "code",
   "execution_count": null,
   "metadata": {},
   "outputs": [],
   "source": []
  },
  {
   "cell_type": "code",
   "execution_count": 7,
   "metadata": {},
   "outputs": [
    {
     "name": "stdout",
     "output_type": "stream",
     "text": [
      "Empty DataFrame\n",
      "Columns: [data-prix, data-codepostal, data-idagence, data-idannonce, data-nb_chambres, data-nb_pieces, data-surface, data-typebien]\n",
      "Index: []\n"
     ]
    }
   ],
   "source": [
    "print(df_f)"
   ]
  },
  {
   "cell_type": "code",
   "execution_count": null,
   "metadata": {},
   "outputs": [],
   "source": []
  }
 ],
 "metadata": {
  "kernelspec": {
   "display_name": "Python 3",
   "language": "python",
   "name": "python3"
  },
  "language_info": {
   "codemirror_mode": {
    "name": "ipython",
    "version": 3
   },
   "file_extension": ".py",
   "mimetype": "text/x-python",
   "name": "python",
   "nbconvert_exporter": "python",
   "pygments_lexer": "ipython3",
   "version": "3.7.4"
  }
 },
 "nbformat": 4,
 "nbformat_minor": 2
}
